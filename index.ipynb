{
 "cells": [
  {
   "cell_type": "markdown",
   "metadata": {},
   "source": [
    "# Project: Analyzing Macbeth\n",
    "\n",
    "## Introduction\n",
    "For our first day and first data science project, we're going to do some rudimentry analysis of Shakespeare's classic play: Macbeth! You will get practice working with lists, condtionals and dictionaries, visualizing data, and thinking analytically about data.\n",
    "\n",
    "## Objectives\n",
    "You will be able to:\n",
    "* Show mastery of the content covered in this section\n",
    "\n",
    "## Getting the Data\n",
    "Here we start by importing a python package and using it to pull the transcript of Macbeth from the project Gutenberg website. We also preview a few details about what is now stored in the variable macbeth; it's a string with 119,846 characters, the first 500 of which are printed below. "
   ]
  },
  {
   "cell_type": "code",
   "execution_count": 2,
   "metadata": {},
   "outputs": [
    {
     "name": "stdout",
     "output_type": "stream",
     "text": [
      "<class 'str'>\n",
      "119846\n"
     ]
    }
   ],
   "source": [
    "import requests\n",
    "macbeth = requests.get('http://www.gutenberg.org/cache/epub/2264/pg2264.txt').text\n",
    "\n",
    "print(type(macbeth))\n",
    "print(len(macbeth))\n"
   ]
  },
  {
   "cell_type": "markdown",
   "metadata": {},
   "source": [
    "## Your Task\n",
    "\n",
    "Your task is to create a bar graph of the 25 most common words in Shakespeare's Macbeth.  \n",
    "\n",
    "\n",
    "A common python programming pattern to counting objects, produce histograms, or update statistics is to make calls to a dictionary as you iterate through a list. For example, given a list of words, you can create a dictionary to store counts and then iterate through the list of words, checking how many times each word has appeared using your dictionary, and updating the dictionary count now that you've seen that word again. The `dictionary.get()` method is very useful in doing this. Read the docstring for the dictionary.get() method and use it along with the pseudocode above to create a bar graph of the 25 most common words from the transcript of Macbeth which has been loaded into a variable 'Macbeth'. Be sure to include a title and appropriate labels for your graph."
   ]
  },
  {
   "cell_type": "code",
   "execution_count": 4,
   "metadata": {},
   "outputs": [
    {
     "data": {
      "text/plain": [
       "Text(0.5, 1.0, 'Most Common Words in Macbeth')"
      ]
     },
     "execution_count": 4,
     "metadata": {},
     "output_type": "execute_result"
    },
    {
     "data": {
      "image/png": "[encoded data removed]",
      "text/plain": [
       "<Figure size 432x288 with 1 Axes>"
      ]
     },
     "metadata": {
      "needs_background": "light"
     },
     "output_type": "display_data"
    }
   ],
   "source": [
    "# Your code here\n",
    "# Macbeth actually starts after character 16241\n",
    "\n",
    "import re\n",
    "import matplotlib.pyplot as plt\n",
    "from collections import OrderedDict\n",
    "\n",
    "# Split the transcript into words:\n",
    "\n",
    "actual_macbeth = macbeth[16241:]\n",
    "# Cutting out the intro from Gutenberg\n",
    "\n",
    "actual_macbeth_lower = actual_macbeth.lower()\n",
    "# Making all text lowercase, for consistency\n",
    "\n",
    "clean_macbeth = re.sub(\"\\W\", \" \", actual_macbeth_lower)\n",
    "# Cleaning out special characters, for consistency\n",
    "\n",
    "macbeth_words = re.split('\\s+', clean_macbeth)\n",
    "# Splitting the block of text into a list of all words, with no extra spaces\n",
    "\n",
    "unique_words = set(macbeth_words)\n",
    "# Looking at the unique words in Macbeth\n",
    "\n",
    "# Create a dictionary:\n",
    "\n",
    "word_dict = dict.fromkeys(unique_words, 0)\n",
    "# Creating an empty dictionary\n",
    "\n",
    "for word in macbeth_words:\n",
    "    word_dict[word] = word_dict[word] + 1\n",
    "  # Counting the number of words\n",
    "\n",
    "sorted_keys = sorted(word_dict, key= lambda kv: word_dict[kv], reverse= True)\n",
    "# Sorting words based on the number of instances in Macbeth\n",
    "\n",
    "top25 = sorted_keys[0:26]\n",
    "# Narrowing the words to the 25 which appear the most often\n",
    "\n",
    "x_axis = []\n",
    "y_axis = []\n",
    "\n",
    "for word in top25:\n",
    "    x_axis.append(word)\n",
    "    y_axis.append(word_dict[word])\n",
    "# Creating the sorted top 25 values for the x and y axes\n",
    "\n",
    "plt.bar(x_axis, y_axis)\n",
    "plt.xlabel(\"Words\")\n",
    "plt.ylabel(\"Number of Instances\")\n",
    "plt.title(\"Most Common Words in Macbeth\")\n",
    "plt.xticks"
   ]
  },
  {
   "cell_type": "markdown",
   "metadata": {},
   "source": [
    "## Level Up (Optional)\n",
    "This project should take you about an hour and a half to complete. If you're done much more quickly than that and are not behind in the course, feel free to deepen your knowledge by completing any or all of the following tasks until you run out of time:\n",
    "* Create a list of top characters by mentions of their names \n",
    "* Split the text by which character is talking\n",
    "* Create subgraphs of the most common words by character\n",
    "* Reduce the string to the text of the play itself. (Remove any initial notes, forward, introduction, appendix, etc.)\n",
    "* Come up with some other fun analyses of the text!\n",
    "\n",
    "## Summary\n",
    "Congratulations! You've got some extra practice combining various data types into useful programming patterns and done an initial analysis of a classic text!"
   ]
  }
 ],
 "metadata": {
  "kernelspec": {
   "display_name": "Python 3",
   "language": "python",
   "name": "python3"
  },
  "language_info": {
   "codemirror_mode": {
    "name": "ipython",
    "version": 3
   },
   "file_extension": ".py",
   "mimetype": "text/x-python",
   "name": "python",
   "nbconvert_exporter": "python",
   "pygments_lexer": "ipython3",
   "version": "3.6.6"
  }
 },
 "nbformat": 4,
 "nbformat_minor": 2
}
